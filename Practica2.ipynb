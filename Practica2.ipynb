{
  "nbformat": 4,
  "nbformat_minor": 0,
  "metadata": {
    "colab": {
      "name": "Practica2.ipynb",
      "provenance": [],
      "collapsed_sections": [],
      "toc_visible": true,
      "include_colab_link": true
    },
    "kernelspec": {
      "name": "python3",
      "display_name": "Python 3"
    }
  },
  "cells": [
    {
      "cell_type": "markdown",
      "metadata": {
        "id": "view-in-github",
        "colab_type": "text"
      },
      "source": [
        "<a href=\"https://colab.research.google.com/github/JDM-ULL-93/Practica_2_TID/blob/master/Practica2.ipynb\" target=\"_parent\"><img src=\"https://colab.research.google.com/assets/colab-badge.svg\" alt=\"Open In Colab\"/></a>"
      ]
    },
    {
      "cell_type": "markdown",
      "metadata": {
        "id": "mMbBAm0R8p3X",
        "colab_type": "text"
      },
      "source": [
        "# Carga de librerías\n",
        "\n",
        "Se utilizan las librerías de numpy, matplotlib y sklearn.\n",
        "\n",
        "* Numpy es una librería para la computación cientifica que, en este caso, usaremos para calculos de operaciones entre matrices.\n",
        "* Matplotlib es una libreria para generación de graficos, útil para visualizar nuestro trabajo más adelante\n",
        "* sklearn es una libreria que contiene diferentes algoritmos de aprendizaje para nuestros futuros modelos de redes neuronales\n",
        "\n",
        "\n"
      ]
    },
    {
      "cell_type": "code",
      "metadata": {
        "id": "tW5Cbqap8x98",
        "colab_type": "code",
        "colab": {}
      },
      "source": [
        "import numpy as np\n",
        "import matplotlib.pyplot as plt\n",
        "from sklearn import datasets\n",
        "from sklearn.model_selection import train_test_split\n",
        "from sklearn.linear_model import Perceptron\n",
        "from sklearn.neural_network import MLPClassifier\n",
        "from sklearn.metrics import log_loss, accuracy_score, classification_report, confusion_matrix\n",
        "from sklearn.metrics import roc_curve\n",
        "from sklearn.metrics import roc_auc_score"
      ],
      "execution_count": 0,
      "outputs": []
    },
    {
      "cell_type": "markdown",
      "metadata": {
        "id": "CdhcZ_kz9vp9",
        "colab_type": "text"
      },
      "source": [
        "# Carga y visualización de datos \n",
        "\n",
        "Cargamos nuestro datasheet a memoria.El primer datasheet es lo datos en bruto y el segundo son los mismos datos normalizado.\n",
        "\n",
        "Nuestra base de datos se basa en las mediciones realizadas por 8 sensores sobre 8 músculos con una frecuencia de 200Hz , estas mediciones se hicieron 6 veces durante 20 segundos para cada gesto, por lo tanto:\n",
        "* Tenemos un total de 64 columnas, cada una para cada sensor que mide cada musculo en cada movimiento, todas ellas de tipo float con valores dentro del rango **[-128.0,127.0]**. \n",
        "* Cada *487* filas corresponden a una de las 6 mediciones realizadas por 20 segundos para cada gesto. Este medición se hizo, de principio a fin,haciendo el mismo gesto, en una posición fija, sin transiciones de ningún tipo.\n",
        "* Una última columna que representa el tipo de gesto al que se corresponde la medición:\n",
        "```c#\n",
        "Enum {\n",
        "  Roca = 0,\n",
        "  Tijeras = 1,\n",
        "  Papel = 2,\n",
        "  Ok = 3\n",
        "}\n",
        "```\n",
        "\n",
        "\n",
        "En la visualización, de todos los sensores y todo lo medido, calculamos el mininimo y al maximo posible para cada tipo de gesto ('clase') y mostramos la variación entre el maximo y el minimo calculado previamente.\n"
      ]
    },
    {
      "cell_type": "code",
      "metadata": {
        "id": "LXXIZXHlANCe",
        "colab_type": "code",
        "colab": {}
      },
      "source": [
        "#gesturesType = {\n",
        "#  'names' : ('MR1S1','MR1S2','MR1S3','MR1S4','MR1S5','MR1S6','MR1S7','MR1S8','MR2S1','MR2S2','MR2S3','MR2S4','MR2S5','MR2S6','MR2S7','MR2S8','MR3S1','MR3S2','MR3S3','MR3S4','MR3S5','MR3S6','MR3S7','MR3S8','MR4S1','MR4S2','MR4S3','MR4S4','MR4S5','MR4S6','MR4S7','MR4S8','MR5S1','MR5S2','MR5S3','MR5S4','MR5S5','MR5S6','MR5S7','MR5S8','MR6S1','MR6S2','MR6S3','MR6S4','MR6S5','MR6S6','MR6S7','MR6S8','MR7S1','MR7S2','MR7S3','MR7S4','MR7S5','MR7S6','MR7S7','MR7S8','MR8S1','MR8S2','MR8S3','MR8S4','MR8S5','MR8S6','MR8S7','MR8S8','Class') \n",
        "#  ,'formats' : (float,float,float,float,float,float,float,float,float,float,float,float,float,float,float,float,float,float,float,float,float,float,float,float,float,float,float,float,float,float,float,float,float,float,float,float,float,float,float,float,float,float,float,float,float,float,float,float,float,float,float,float,float,float,float,float,float,float,float,float,float,float,float,float,int)\n",
        "#  }\n",
        "\n",
        "\n",
        "#gestures = np.loadtxt(\"/content/all.csv\", dtype=gesturesType, delimiter=',')\n",
        "#gestures = np.loadtxt(open(\"/content/all.csv\", \"rb\"), delimiter=\",\")\n",
        "gestures = np.loadtxt(\"/content/all.csv\", delimiter=\",\")\n",
        "#print(gestures.shape)\n",
        "#gesturesNormalized = np.loadtxt(open(\"/content/allNormalizedFromCommaToDots.csv\", \"rb\"), delimiter=\";\")\n",
        "#print(gesturesNormalized.shape)"
      ],
      "execution_count": 0,
      "outputs": []
    },
    {
      "cell_type": "code",
      "metadata": {
        "id": "zcRvEHZIZglp",
        "colab_type": "code",
        "outputId": "74955675-51a5-4aeb-c21a-77e7319578a0",
        "colab": {
          "base_uri": "https://localhost:8080/",
          "height": 281
        }
      },
      "source": [
        "datos = {\n",
        "  0 : {'min': +1000, 'max': -1000 },\n",
        "  1 : {'min': +1000, 'max': -1000 },\n",
        "  2 : {'min': +1000, 'max': -1000 },\n",
        "  3 : {'min': +1000, 'max': -1000 },\n",
        "}\n",
        "for i in range(gestures.shape[0]):\n",
        "  for j in range(64):\n",
        "    index = gestures[i,64]#index = int(j/8)\n",
        "    datos[index]['min'] = gestures[i,j] if gestures[i,j] < datos[index]['min'] else datos[index]['min']\n",
        "    datos[index]['max'] = gestures[i,j] if gestures[i,j] > datos[index]['max'] else datos[index]['max'] \n",
        "\n",
        "\n",
        "fig = plt.figure(u'Gráfica de barras') # Figure\n",
        "ax = fig.add_subplot(111) # Axes\n",
        "nombres = ['Roca','Papel','Tijeras','Ok']\n",
        "datosFinal = [0,0,0,0]\n",
        "for i in range(4):\n",
        "  datosFinal[i] = int(datos[i]['max']+datos[i]['min'])\n",
        "xx = range(len(datosFinal))\n",
        "ax.bar(xx, datosFinal, width=0.8, align='center')\n",
        "ax.set_xticks(xx)\n",
        "ax.set_xticklabels(nombres)\n",
        "ax.set_title(\"Var. max-min\")\n",
        "plt.show()"
      ],
      "execution_count": 3,
      "outputs": [
        {
          "output_type": "display_data",
          "data": {
            "image/png": "[encoded data removed]",
            "text/plain": [
              "<Figure size 432x288 with 1 Axes>"
            ]
          },
          "metadata": {
            "tags": []
          }
        }
      ]
    },
    {
      "cell_type": "markdown",
      "metadata": {
        "id": "w-_eh2sQxHtX",
        "colab_type": "text"
      },
      "source": [
        "# Creando conjuntos de entrenamiento, validación y test\n",
        "\n",
        "Tras cargar y visualizar nuestros datos, procedemos a prepararlos para ser procesados posteriormente por el Perceptron Simple y Perceptron Multicapa diviendo nuestra matriz inicial contenida en 'gestures' en 3 subconjuntos, uno de entrenamiento y otro de validación que a su vez se dividirá en 2, validación de nuevo y test . ¿Por qué dividimos el conjunto de validación en 2? Porque, más adelante, en el Perceptron Multicapa, de forma indirecta, lo usamos como si fuese un conjunto de entrenamiento para optimizar los parametros de nuestro perceptron multicapa, por lo tanto, se convierten en datos viciados que ya no sirven para probar la precisión de nuestro modelo.\n",
        "\n",
        "Conviene recalcar varias cosas:\n",
        "* input_xxx : Se corresponde con el input de datos de nuestra red neuronal tipo Perceptron simple (esto es, 1 capa de entrada y otra de salida), por lo tanto, contiene toda la matrix 'gestures' pero eliminando la última columna.\n",
        "* target_xxx : Basicamente es lo contrario a input, contiene solo todas las filas de la última columna y será usada siempre para validar la precisión del modelo.\n",
        "* _xxx : Indica si se corresponde al subcojunto de entrenamiento(*_train*), de validación(*_valid*) o test(*_test*)."
      ]
    },
    {
      "cell_type": "code",
      "metadata": {
        "id": "l56KCJZnxEAs",
        "colab_type": "code",
        "outputId": "f16c0f92-19f1-42f4-c477-7100c324e9f9",
        "colab": {
          "base_uri": "https://localhost:8080/",
          "height": 127
        }
      },
      "source": [
        "train_size = 0.5 #50%\n",
        "test_size = 1 - train_size\n",
        "#patterns_input = gesturesNormalized[:gesturesNormalized.size-1]\n",
        "patterns_input = gestures[:, :-1] #Obtenemos todas las filas y columnas (excepto la última) \n",
        "patterns_target = gestures[:, -1]#gesturesNormalized[:, -1] #Obtenemos todas las filas pero solo de la ultima columna que contiene el tipo de gesto\n",
        "input_train, input_valid, target_train, target_valid = train_test_split(patterns_input, patterns_target, train_size=train_size, test_size=test_size, random_state=0, shuffle=True)\n",
        "print(\"<Conjunto_Input_Entrenamiento>.shape = \",input_train.shape)\n",
        "print(\"<Conjunto_ValidaciónOutput_Entrenamiento>.shape = \",target_train.shape)\n",
        "\n",
        "input_test, input_valid, target_test, target_valid = train_test_split(input_valid, target_valid, train_size=train_size,test_size=test_size, random_state=0, shuffle=True)\n",
        "\n",
        "print(\"<Conjunto_Input_Validación>.shape = \",input_valid.shape)\n",
        "print(\"<Conjunto_ValidaciónOutput_Validación>.shape = \",target_valid.shape)\n",
        "print(\"<Conjunto_Input_Test>.shape = \",input_test.shape)\n",
        "print(\"<Conjunto_ValidaciónOutput_Test>.shape = \",target_test.shape)"
      ],
      "execution_count": 4,
      "outputs": [
        {
          "output_type": "stream",
          "text": [
            "<Conjunto_Input_Entrenamiento>.shape =  (5839, 64)\n",
            "<Conjunto_ValidaciónOutput_Entrenamiento>.shape =  (5839,)\n",
            "<Conjunto_Input_Validación>.shape =  (2920, 64)\n",
            "<Conjunto_ValidaciónOutput_Validación>.shape =  (2920,)\n",
            "<Conjunto_Input_Test>.shape =  (2919, 64)\n",
            "<Conjunto_ValidaciónOutput_Test>.shape =  (2919,)\n"
          ],
          "name": "stdout"
        }
      ]
    },
    {
      "cell_type": "markdown",
      "metadata": {
        "id": "C1U0ZuK0WhZ2",
        "colab_type": "text"
      },
      "source": [
        "# Resultados iniciales Perceptrón Simple"
      ]
    },
    {
      "cell_type": "code",
      "metadata": {
        "id": "mI3ZyBvDWjzE",
        "colab_type": "code",
        "outputId": "dde6d708-5756-496c-eccc-1a32b577f466",
        "colab": {
          "base_uri": "https://localhost:8080/",
          "height": 1000
        }
      },
      "source": [
        "max_iter = 120\n",
        "per = Perceptron(max_iter=max_iter, shuffle=False, random_state=0, verbose=True)\n",
        "per.fit(input_train, target_train)\n",
        "predict_train = per.predict(input_train)\n",
        "predict_valid = per.predict(input_valid)\n",
        "print(\"Train accuracy: %.3f%%\" % (accuracy_score(target_train, predict_train) * 100))\n",
        "print(\"Valid accuracy: %.3f%%\" % (accuracy_score(target_valid, predict_valid) * 100))"
      ],
      "execution_count": 5,
      "outputs": [
        {
          "output_type": "stream",
          "text": [
            "-- Epoch 1\n",
            "Norm: 1228.70, NNZs: 64, Bias: -906.000000, T: 5839, Avg. loss: 4170.397328\n",
            "Total training time: 0.00 seconds.\n",
            "-- Epoch 2\n",
            "Norm: 1213.84, NNZs: 62, Bias: -1574.000000, T: 11678, Avg. loss: 3952.304675\n",
            "Total training time: 0.00 seconds.\n",
            "-- Epoch 3\n",
            "Norm: 1227.17, NNZs: 63, Bias: -2183.000000, T: 17517, Avg. loss: 3956.705258\n",
            "Total training time: 0.00 seconds.\n",
            "-- Epoch 4\n",
            "Norm: 1173.91, NNZs: 64, Bias: -2728.000000, T: 23356, Avg. loss: 3865.379688\n",
            "Total training time: 0.01 seconds.\n",
            "-- Epoch 5\n",
            "Norm: 1129.10, NNZs: 64, Bias: -3205.000000, T: 29195, Avg. loss: 3786.754067\n",
            "Total training time: 0.01 seconds.\n",
            "-- Epoch 6\n",
            "Norm: 1016.63, NNZs: 64, Bias: -3626.000000, T: 35034, Avg. loss: 3735.183593\n",
            "Total training time: 0.01 seconds.\n",
            "-- Epoch 7\n",
            "Norm: 884.73, NNZs: 63, Bias: -3988.000000, T: 40873, Avg. loss: 3669.783696\n",
            "Total training time: 0.01 seconds.\n",
            "-- Epoch 8\n",
            "Norm: 1010.13, NNZs: 64, Bias: -4310.000000, T: 46712, Avg. loss: 3625.902723\n",
            "Total training time: 0.01 seconds.\n",
            "-- Epoch 9\n",
            "Norm: 857.45, NNZs: 64, Bias: -4618.000000, T: 52551, Avg. loss: 3701.856654\n",
            "Total training time: 0.01 seconds.\n",
            "-- Epoch 10\n",
            "Norm: 830.73, NNZs: 64, Bias: -4900.000000, T: 58390, Avg. loss: 3570.957013\n",
            "Total training time: 0.01 seconds.\n",
            "-- Epoch 11\n",
            "Norm: 822.72, NNZs: 64, Bias: -5115.000000, T: 64229, Avg. loss: 3559.988697\n",
            "Total training time: 0.02 seconds.\n",
            "-- Epoch 12\n",
            "Norm: 841.06, NNZs: 64, Bias: -5286.000000, T: 70068, Avg. loss: 3512.895701\n",
            "Total training time: 0.02 seconds.\n",
            "-- Epoch 13\n",
            "Norm: 832.81, NNZs: 64, Bias: -5480.000000, T: 75907, Avg. loss: 3599.392533\n",
            "Total training time: 0.02 seconds.\n",
            "-- Epoch 14\n",
            "Norm: 863.11, NNZs: 63, Bias: -5650.000000, T: 81746, Avg. loss: 3589.649255\n",
            "Total training time: 0.02 seconds.\n",
            "-- Epoch 15\n",
            "Norm: 870.44, NNZs: 64, Bias: -5790.000000, T: 87585, Avg. loss: 3532.849803\n",
            "Total training time: 0.02 seconds.\n",
            "-- Epoch 16\n",
            "Norm: 820.66, NNZs: 64, Bias: -5952.000000, T: 93424, Avg. loss: 3673.630759\n",
            "Total training time: 0.02 seconds.\n",
            "-- Epoch 17\n",
            "Norm: 781.79, NNZs: 63, Bias: -6142.000000, T: 99263, Avg. loss: 3595.102757\n",
            "Total training time: 0.02 seconds.\n",
            "Convergence after 17 epochs took 0.03 seconds\n",
            "-- Epoch 1\n",
            "Norm: 972.81, NNZs: 64, Bias: -782.000000, T: 5839, Avg. loss: 4002.114574\n",
            "Total training time: 0.00 seconds.\n",
            "-- Epoch 2\n",
            "Norm: 981.87, NNZs: 64, Bias: -1303.000000, T: 11678, Avg. loss: 3864.631958\n",
            "Total training time: 0.00 seconds.\n",
            "-- Epoch 3\n",
            "Norm: 984.76, NNZs: 63, Bias: -1806.000000, T: 17517, Avg. loss: 3911.040932\n",
            "Total training time: 0.00 seconds.\n",
            "-- Epoch 4\n",
            "Norm: 914.28, NNZs: 64, Bias: -2247.000000, T: 23356, Avg. loss: 3853.678712\n",
            "Total training time: 0.01 seconds.\n",
            "-- Epoch 5\n",
            "Norm: 821.70, NNZs: 64, Bias: -2632.000000, T: 29195, Avg. loss: 3716.666381\n",
            "Total training time: 0.01 seconds.\n",
            "-- Epoch 6\n",
            "Norm: 877.83, NNZs: 63, Bias: -2978.000000, T: 35034, Avg. loss: 3626.081863\n",
            "Total training time: 0.01 seconds.\n",
            "-- Epoch 7\n",
            "Norm: 746.97, NNZs: 64, Bias: -3294.000000, T: 40873, Avg. loss: 3624.971057\n",
            "Total training time: 0.01 seconds.\n",
            "-- Epoch 8\n",
            "Norm: 732.81, NNZs: 64, Bias: -3585.000000, T: 46712, Avg. loss: 3726.560884\n",
            "Total training time: 0.01 seconds.\n",
            "-- Epoch 9\n",
            "Norm: 784.17, NNZs: 64, Bias: -3805.000000, T: 52551, Avg. loss: 3628.810413\n",
            "Total training time: 0.01 seconds.\n",
            "-- Epoch 10\n",
            "Norm: 765.79, NNZs: 64, Bias: -4004.000000, T: 58390, Avg. loss: 3641.348347\n",
            "Total training time: 0.01 seconds.\n",
            "-- Epoch 11\n",
            "Norm: 651.23, NNZs: 64, Bias: -4197.000000, T: 64229, Avg. loss: 3652.532454\n",
            "Total training time: 0.02 seconds.\n",
            "-- Epoch 12\n",
            "Norm: 726.00, NNZs: 64, Bias: -4390.000000, T: 70068, Avg. loss: 3675.475253\n",
            "Total training time: 0.02 seconds.\n",
            "Convergence after 12 epochs took 0.02 seconds\n",
            "-- Epoch 1\n",
            "Norm: 1023.66, NNZs: 64, Bias: -733.000000, T: 5839, Avg. loss: 4040.273506\n",
            "Total training time: 0.00 seconds.\n",
            "-- Epoch 2\n",
            "Norm: 1037.96, NNZs: 64, Bias: -1291.000000, T: 11678, Avg. loss: 3958.687789\n",
            "Total training time: 0.00 seconds.\n",
            "-- Epoch 3\n",
            "Norm: 955.81, NNZs: 64, Bias: -1807.000000, T: 17517, Avg. loss: 3875.465833\n",
            "Total training time: 0.00 seconds.\n",
            "-- Epoch 4\n",
            "Norm: 902.66, NNZs: 64, Bias: -2244.000000, T: 23356, Avg. loss: 3889.402809\n",
            "Total training time: 0.01 seconds.\n",
            "-- Epoch 5\n",
            "Norm: 789.75, NNZs: 64, Bias: -2645.000000, T: 29195, Avg. loss: 3844.506422\n",
            "Total training time: 0.01 seconds.\n",
            "-- Epoch 6\n",
            "Norm: 838.62, NNZs: 64, Bias: -3016.000000, T: 35034, Avg. loss: 3855.554718\n",
            "Total training time: 0.01 seconds.\n",
            "-- Epoch 7\n",
            "Norm: 780.01, NNZs: 64, Bias: -3359.000000, T: 40873, Avg. loss: 3755.072273\n",
            "Total training time: 0.01 seconds.\n",
            "-- Epoch 8\n",
            "Norm: 838.23, NNZs: 63, Bias: -3627.000000, T: 46712, Avg. loss: 3721.867786\n",
            "Total training time: 0.01 seconds.\n",
            "-- Epoch 9\n",
            "Norm: 852.08, NNZs: 63, Bias: -3889.000000, T: 52551, Avg. loss: 3697.351601\n",
            "Total training time: 0.01 seconds.\n",
            "-- Epoch 10\n",
            "Norm: 777.22, NNZs: 63, Bias: -4112.000000, T: 58390, Avg. loss: 3705.491009\n",
            "Total training time: 0.01 seconds.\n",
            "-- Epoch 11\n",
            "Norm: 677.25, NNZs: 64, Bias: -4357.000000, T: 64229, Avg. loss: 3712.621682\n",
            "Total training time: 0.02 seconds.\n",
            "-- Epoch 12\n",
            "Norm: 748.96, NNZs: 64, Bias: -4580.000000, T: 70068, Avg. loss: 3669.688988\n",
            "Total training time: 0.02 seconds.\n",
            "-- Epoch 13\n",
            "Norm: 765.62, NNZs: 64, Bias: -4750.000000, T: 75907, Avg. loss: 3686.326597\n",
            "Total training time: 0.02 seconds.\n",
            "-- Epoch 14\n",
            "Norm: 676.81, NNZs: 64, Bias: -4894.000000, T: 81746, Avg. loss: 3677.633328\n",
            "Total training time: 0.02 seconds.\n",
            "-- Epoch 15\n",
            "Norm: 821.70, NNZs: 64, Bias: -5073.000000, T: 87585, Avg. loss: 3706.178969\n",
            "Total training time: 0.02 seconds.\n",
            "-- Epoch 16\n",
            "Norm: 668.68, NNZs: 64, Bias: -5219.000000, T: 93424, Avg. loss: 3630.549409\n",
            "Total training time: 0.02 seconds.\n",
            "-- Epoch 17\n",
            "Norm: 706.14, NNZs: 64, Bias: -5370.000000, T: 99263, Avg. loss: 3700.009762\n",
            "Total training time: 0.02 seconds.\n",
            "-- Epoch 18\n",
            "Norm: 715.66, NNZs: 64, Bias: -5500.000000, T: 105102, Avg. loss: 3620.293886\n",
            "Total training time: 0.03 seconds.\n",
            "-- Epoch 19\n",
            "Norm: 737.96, NNZs: 63, Bias: -5588.000000, T: 110941, Avg. loss: 3683.401610\n",
            "Total training time: 0.03 seconds.\n",
            "-- Epoch 20\n",
            "Norm: 706.04, NNZs: 64, Bias: -5682.000000, T: 116780, Avg. loss: 3638.267340\n",
            "Total training time: 0.03 seconds.\n",
            "-- Epoch 21\n",
            "Norm: 710.50, NNZs: 64, Bias: -5759.000000, T: 122619, Avg. loss: 3733.275903\n",
            "Total training time: 0.03 seconds.\n",
            "-- Epoch 22\n",
            "Norm: 718.45, NNZs: 64, Bias: -5833.000000, T: 128458, Avg. loss: 3721.375921\n",
            "Total training time: 0.03 seconds.\n",
            "-- Epoch 23\n",
            "Norm: 786.01, NNZs: 64, Bias: -5865.000000, T: 134297, Avg. loss: 3742.848604\n",
            "Total training time: 0.03 seconds.\n",
            "Convergence after 23 epochs took 0.03 seconds\n",
            "-- Epoch 1\n",
            "Norm: 1039.89, NNZs: 64, Bias: -763.000000, T: 5839, Avg. loss: 4101.217332\n",
            "Total training time: 0.00 seconds.\n",
            "-- Epoch 2\n",
            "Norm: 1016.28, NNZs: 63, Bias: -1293.000000, T: 11678, Avg. loss: 3824.080664\n",
            "Total training time: 0.00 seconds.\n",
            "-- Epoch 3\n",
            "Norm: 1015.12, NNZs: 64, Bias: -1824.000000, T: 17517, Avg. loss: 3899.561055\n",
            "Total training time: 0.00 seconds.\n",
            "-- Epoch 4\n",
            "Norm: 921.32, NNZs: 64, Bias: -2289.000000, T: 23356, Avg. loss: 3807.976708\n",
            "Total training time: 0.01 seconds.\n",
            "-- Epoch 5\n",
            "Norm: 899.50, NNZs: 63, Bias: -2708.000000, T: 29195, Avg. loss: 3770.329337\n",
            "Total training time: 0.01 seconds.\n",
            "-- Epoch 6\n",
            "Norm: 853.21, NNZs: 63, Bias: -3052.000000, T: 35034, Avg. loss: 3752.882343\n",
            "Total training time: 0.01 seconds.\n",
            "-- Epoch 7\n",
            "Norm: 870.25, NNZs: 64, Bias: -3360.000000, T: 40873, Avg. loss: 3680.631444\n",
            "Total training time: 0.01 seconds.\n",
            "-- Epoch 8\n",
            "Norm: 807.38, NNZs: 64, Bias: -3650.000000, T: 46712, Avg. loss: 3712.196266\n",
            "Total training time: 0.01 seconds.\n",
            "-- Epoch 9\n",
            "Norm: 792.55, NNZs: 64, Bias: -3877.000000, T: 52551, Avg. loss: 3665.518411\n",
            "Total training time: 0.01 seconds.\n",
            "-- Epoch 10\n",
            "Norm: 802.82, NNZs: 64, Bias: -4121.000000, T: 58390, Avg. loss: 3646.537763\n",
            "Total training time: 0.01 seconds.\n",
            "-- Epoch 11\n",
            "Norm: 750.38, NNZs: 64, Bias: -4331.000000, T: 64229, Avg. loss: 3581.480048\n",
            "Total training time: 0.02 seconds.\n",
            "-- Epoch 12\n",
            "Norm: 801.61, NNZs: 64, Bias: -4533.000000, T: 70068, Avg. loss: 3652.176400\n",
            "Total training time: 0.02 seconds.\n",
            "-- Epoch 13\n",
            "Norm: 784.95, NNZs: 63, Bias: -4694.000000, T: 75907, Avg. loss: 3625.820860\n",
            "Total training time: 0.02 seconds.\n",
            "-- Epoch 14\n",
            "Norm: 736.76, NNZs: 64, Bias: -4856.000000, T: 81746, Avg. loss: 3619.857339\n",
            "Total training time: 0.02 seconds.\n",
            "-- Epoch 15\n",
            "Norm: 657.00, NNZs: 63, Bias: -4997.000000, T: 87585, Avg. loss: 3530.253811\n",
            "Total training time: 0.02 seconds.\n",
            "-- Epoch 16\n",
            "Norm: 713.68, NNZs: 64, Bias: -5151.000000, T: 93424, Avg. loss: 3581.033567\n",
            "Total training time: 0.02 seconds.\n",
            "-- Epoch 17\n",
            "Norm: 760.72, NNZs: 64, Bias: -5269.000000, T: 99263, Avg. loss: 3577.974482\n",
            "Total training time: 0.03 seconds.\n",
            "-- Epoch 18\n",
            "Norm: 761.30, NNZs: 64, Bias: -5375.000000, T: 105102, Avg. loss: 3591.694982\n",
            "Total training time: 0.03 seconds.\n",
            "-- Epoch 19\n",
            "Norm: 732.64, NNZs: 64, Bias: -5467.000000, T: 110941, Avg. loss: 3712.927727\n",
            "Total training time: 0.03 seconds.\n",
            "-- Epoch 20\n",
            "Norm: 649.53, NNZs: 64, Bias: -5578.000000, T: 116780, Avg. loss: 3574.142148\n",
            "Total training time: 0.03 seconds.\n",
            "Convergence after 20 epochs took 0.03 seconds\n",
            "Train accuracy: 26.460%\n",
            "Valid accuracy: 27.123%\n"
          ],
          "name": "stdout"
        },
        {
          "output_type": "stream",
          "text": [
            "[Parallel(n_jobs=1)]: Using backend SequentialBackend with 1 concurrent workers.\n",
            "[Parallel(n_jobs=1)]: Done   4 out of   4 | elapsed:    0.1s finished\n"
          ],
          "name": "stderr"
        }
      ]
    },
    {
      "cell_type": "markdown",
      "metadata": {
        "id": "2UGfiW85nhq0",
        "colab_type": "text"
      },
      "source": [
        "Observamos como la precisión final frente a nuestro conjunto de validación es del ~27%, es obvio que el perceptrón simple y su función lineal es totalmente incapaz de crear un modelo de red neuronal preciso,"
      ]
    },
    {
      "cell_type": "markdown",
      "metadata": {
        "id": "TtHZFDe_qiKT",
        "colab_type": "text"
      },
      "source": [
        "# Resultados iniciales Perceptrón Multicapa \n",
        "\n",
        "El siguiente paso es probar con el Perceptrón Multicapa. Existiendo una ecuación y = f(x1,x2,...,x64), que describe como x(i) las entradas e 'y' la clase a la que se corresponde, a diferencia del perceptrón simple que solo puede intentar acotarla mediante la ecuación de una recta, el perceptrón multicapa y su adición de capas ocultas permite añadir más variables a la ecuación que acota f(x1,x2,...,x64) pudiendo acercarse más a ella, aumentando la precisión del modelo Perceptrón.  \n"
      ]
    },
    {
      "cell_type": "markdown",
      "metadata": {
        "id": "T2h4j55jzNpJ",
        "colab_type": "text"
      },
      "source": [
        "Lo que definimos a continuación es una función que se encargará de aplicarle el algoritmo de aprendizaje encargado de ajustar pesos al perceptron multicapa que le pasamos (*mlp*) . Este algoritmo emplea el conjunto de validación como parte del entrenamiento, por lo tanto, *'vicia'* el objetivo para que estos datos fueron divididos, y por ello es que anteriormente creamos un 3º subconjunto llamado *'test'*"
      ]
    },
    {
      "cell_type": "code",
      "metadata": {
        "id": "tVBgpyXN9l7k",
        "colab_type": "code",
        "colab": {}
      },
      "source": [
        "def MLP_train_valid(mlp, input_train, target_train, input_valid, target_valid, max_iter, valid_cycles, verbose):\n",
        "   \"\"\"\n",
        "   Train and valid MLP every valid_cycles iterations\n",
        "   \"\"\"\n",
        "   classes  = np.unique(target_train)\n",
        "   loss_valid = []\n",
        "   for i in range(int(max_iter/valid_cycles)):\n",
        "       for j in range(valid_cycles):\n",
        "           out = mlp.partial_fit(input_train, target_train, classes)\n",
        "           # Calculate loss function of valid set\n",
        "       last_lost_valid = log_loss(target_valid, mlp.predict_proba(input_valid))\n",
        "       loss_valid.append(last_lost_valid)\n",
        "       if verbose:\n",
        "           print(\"Iteration %d, train loss = %.8f, valid loss = %.8f\" %(mlp.n_iter_, mlp.loss_, last_lost_valid))\n",
        "       if early_stopping and (i > 0) and (last_lost_valid > loss_valid[-2]): # Early stopping\n",
        "           if verbose:\n",
        "               print(\"Early stopping: Validation score did not improve\")\n",
        "           break\n",
        "   if verbose: print(out)\n",
        "   \n",
        "   if verbose:\n",
        "       # Visualizing the Cost Function Trajectory\n",
        "       # (https://sdsawtelle.github.io/blog/output/week4-andrew-ng-machine-learning-with-python.html#Visualizing-the-Cost-Function-Trajectory)\n",
        "       print(\"Visualizing the Cost Function Trajectory\")\n",
        "       plt.plot(range(1, len(mlp.loss_curve_)+1), mlp.loss_curve_, label='Train loss')\n",
        "       plt.plot(range(valid_cycles,len(loss_valid)*valid_cycles+valid_cycles,valid_cycles), loss_valid, '-o', label='Valid loss')\n",
        "       plt.xlabel('number of iterations')\n",
        "       plt.ylabel('loss function')\n",
        "       plt.legend(loc='upper right')\n",
        "       plt.show()"
      ],
      "execution_count": 0,
      "outputs": []
    },
    {
      "cell_type": "markdown",
      "metadata": {
        "id": "EkrQTEzL1OEK",
        "colab_type": "text"
      },
      "source": [
        "Creamos nuestro MLP y se lo pasamos a la función creada anteriormente para entrenarla y mejorar su precisión"
      ]
    },
    {
      "cell_type": "code",
      "metadata": {
        "id": "muJM9OuC9nlb",
        "colab_type": "code",
        "outputId": "0b02f9c0-a7f3-409a-8d0d-3b298a8fcb97",
        "colab": {
          "base_uri": "https://localhost:8080/",
          "height": 1000
        }
      },
      "source": [
        "n_hidden = 64 #60\n",
        "max_iter = 300\n",
        "learning_rate_init = 0.001\n",
        "valid_cycles = 5\n",
        "early_stopping = True\n",
        "mlp = MLPClassifier(hidden_layer_sizes=(n_hidden,), learning_rate_init=learning_rate_init, shuffle=False, random_state=0, verbose=True)\n",
        "MLP_train_valid(mlp, input_train, target_train, input_valid, target_valid, max_iter, valid_cycles, True)"
      ],
      "execution_count": 8,
      "outputs": [
        {
          "output_type": "stream",
          "text": [
            "Iteration 1, loss = 9.39028203\n",
            "Iteration 2, loss = 4.44213089\n",
            "Iteration 3, loss = 2.72567879\n",
            "Iteration 4, loss = 1.94406013\n",
            "Iteration 5, loss = 1.49669749\n",
            "Iteration 5, train loss = 1.49669749, valid loss = 1.73771282\n",
            "Iteration 6, loss = 1.20348967\n",
            "Iteration 7, loss = 0.99952973\n",
            "Iteration 8, loss = 0.84916836\n",
            "Iteration 9, loss = 0.73454076\n",
            "Iteration 10, loss = 0.64442188\n",
            "Iteration 10, train loss = 0.64442188, valid loss = 1.04893198\n",
            "Iteration 11, loss = 0.57226925\n",
            "Iteration 12, loss = 0.51321921\n",
            "Iteration 13, loss = 0.46365460\n",
            "Iteration 14, loss = 0.42091587\n",
            "Iteration 15, loss = 0.38361850\n",
            "Iteration 15, train loss = 0.38361850, valid loss = 0.81431302\n",
            "Iteration 16, loss = 0.35124695\n",
            "Iteration 17, loss = 0.32295616\n",
            "Iteration 18, loss = 0.29792646\n",
            "Iteration 19, loss = 0.27587965\n",
            "Iteration 20, loss = 0.25639441\n",
            "Iteration 20, train loss = 0.25639441, valid loss = 0.69332066\n",
            "Iteration 21, loss = 0.23888045\n",
            "Iteration 22, loss = 0.22313726\n",
            "Iteration 23, loss = 0.20888984\n",
            "Iteration 24, loss = 0.19593089\n",
            "Iteration 25, loss = 0.18403734\n",
            "Iteration 25, train loss = 0.18403734, valid loss = 0.62697955\n",
            "Iteration 26, loss = 0.17302617\n",
            "Iteration 27, loss = 0.16283585\n",
            "Iteration 28, loss = 0.15358720\n",
            "Iteration 29, loss = 0.14499740\n",
            "Iteration 30, loss = 0.13708899\n",
            "Iteration 30, train loss = 0.13708899, valid loss = 0.58952972\n",
            "Iteration 31, loss = 0.12979077\n",
            "Iteration 32, loss = 0.12286352\n",
            "Iteration 33, loss = 0.11643253\n",
            "Iteration 34, loss = 0.11050924\n",
            "Iteration 35, loss = 0.10498582\n",
            "Iteration 35, train loss = 0.10498582, valid loss = 0.56796441\n",
            "Iteration 36, loss = 0.09983988\n",
            "Iteration 37, loss = 0.09500187\n",
            "Iteration 38, loss = 0.09044703\n",
            "Iteration 39, loss = 0.08615316\n",
            "Iteration 40, loss = 0.08211581\n",
            "Iteration 40, train loss = 0.08211581, valid loss = 0.55554053\n",
            "Iteration 41, loss = 0.07835957\n",
            "Iteration 42, loss = 0.07478952\n",
            "Iteration 43, loss = 0.07140911\n",
            "Iteration 44, loss = 0.06823436\n",
            "Iteration 45, loss = 0.06524339\n",
            "Iteration 45, train loss = 0.06524339, valid loss = 0.54945034\n",
            "Iteration 46, loss = 0.06238887\n",
            "Iteration 47, loss = 0.05972224\n",
            "Iteration 48, loss = 0.05722017\n",
            "Iteration 49, loss = 0.05481836\n",
            "Iteration 50, loss = 0.05256860\n",
            "Iteration 50, train loss = 0.05256860, valid loss = 0.54695281\n",
            "Iteration 51, loss = 0.05039455\n",
            "Iteration 52, loss = 0.04831242\n",
            "Iteration 53, loss = 0.04633784\n",
            "Iteration 54, loss = 0.04446244\n",
            "Iteration 55, loss = 0.04265871\n",
            "Iteration 55, train loss = 0.04265871, valid loss = 0.54611254\n",
            "Iteration 56, loss = 0.04096961\n",
            "Iteration 57, loss = 0.03936774\n",
            "Iteration 58, loss = 0.03784025\n",
            "Iteration 59, loss = 0.03635755\n",
            "Iteration 60, loss = 0.03496300\n",
            "Iteration 60, train loss = 0.03496300, valid loss = 0.54741235\n",
            "Early stopping: Validation score did not improve\n",
            "MLPClassifier(activation='relu', alpha=0.0001, batch_size='auto', beta_1=0.9,\n",
            "              beta_2=0.999, early_stopping=False, epsilon=1e-08,\n",
            "              hidden_layer_sizes=(64,), learning_rate='constant',\n",
            "              learning_rate_init=0.001, max_fun=15000, max_iter=200,\n",
            "              momentum=0.9, n_iter_no_change=10, nesterovs_momentum=True,\n",
            "              power_t=0.5, random_state=0, shuffle=False, solver='adam',\n",
            "              tol=0.0001, validation_fraction=0.1, verbose=True,\n",
            "              warm_start=False)\n",
            "Visualizing the Cost Function Trajectory\n"
          ],
          "name": "stdout"
        },
        {
          "output_type": "display_data",
          "data": {
            "image/png": "[encoded data removed]",
            "text/plain": [
              "<Figure size 432x288 with 1 Axes>"
            ]
          },
          "metadata": {
            "tags": []
          }
        }
      ]
    },
    {
      "cell_type": "code",
      "metadata": {
        "id": "euhLhQli9857",
        "colab_type": "code",
        "outputId": "8b4bf8eb-22de-436b-d952-c315500d8b21",
        "colab": {
          "base_uri": "https://localhost:8080/",
          "height": 678
        }
      },
      "source": [
        "predict_train = mlp.predict(input_train)\n",
        "predict_valid = mlp.predict(input_valid)\n",
        "print(\"Train accuracy: %.3f%%\" % (accuracy_score(target_train, predict_train) * 100))\n",
        "print(\"Valid accuracy: %.3f%%\" % (accuracy_score(target_valid, predict_valid) * 100))\n",
        "print(\"Train confusion matrix:\")\n",
        "print(confusion_matrix(target_train, predict_train))\n",
        "print(\"Valid confusion matrix:\")\n",
        "print(confusion_matrix(target_valid, predict_valid))\n",
        "print(\"Train classification report:\")\n",
        "print(classification_report(target_train, predict_train))\n",
        "print(\"Valid classification report:\")\n",
        "print(classification_report(target_valid, predict_valid))"
      ],
      "execution_count": 0,
      "outputs": [
        {
          "output_type": "stream",
          "text": [
            "Train accuracy: 99.777%\n",
            "Valid accuracy: 86.781%\n",
            "Train confusion matrix:\n",
            "[[1468    0    0    0]\n",
            " [   0 1466    0    3]\n",
            " [   0    0 1429    3]\n",
            " [   0    5    2 1463]]\n",
            "Valid confusion matrix:\n",
            "[[679   9  29  11]\n",
            " [  1 670  21  34]\n",
            " [ 18  43 573 100]\n",
            " [ 11  54  55 612]]\n",
            "Train classification report:\n",
            "              precision    recall  f1-score   support\n",
            "\n",
            "         0.0       1.00      1.00      1.00      1468\n",
            "         1.0       1.00      1.00      1.00      1469\n",
            "         2.0       1.00      1.00      1.00      1432\n",
            "         3.0       1.00      1.00      1.00      1470\n",
            "\n",
            "    accuracy                           1.00      5839\n",
            "   macro avg       1.00      1.00      1.00      5839\n",
            "weighted avg       1.00      1.00      1.00      5839\n",
            "\n",
            "Valid classification report:\n",
            "              precision    recall  f1-score   support\n",
            "\n",
            "         0.0       0.96      0.93      0.95       728\n",
            "         1.0       0.86      0.92      0.89       726\n",
            "         2.0       0.85      0.78      0.81       734\n",
            "         3.0       0.81      0.84      0.82       732\n",
            "\n",
            "    accuracy                           0.87      2920\n",
            "   macro avg       0.87      0.87      0.87      2920\n",
            "weighted avg       0.87      0.87      0.87      2920\n",
            "\n"
          ],
          "name": "stdout"
        }
      ]
    },
    {
      "cell_type": "markdown",
      "metadata": {
        "id": "8y3uRDMJ1f7y",
        "colab_type": "text"
      },
      "source": [
        "Observamos que, comparado al Perceptrón Simple, el Perceptrón Multicapa es mucho mas capaz de acotar esa ecuación que define la relación de los inputos con la clase (el tipo de gesto usado). Tenemos una precisión del *86.781%* para el conjunto de validación. Sin embargo, este valor todavía puede ser mejorado."
      ]
    },
    {
      "cell_type": "markdown",
      "metadata": {
        "id": "zeZWdUThWdLK",
        "colab_type": "text"
      },
      "source": [
        "# Optimización ratio de aprendizaje\n",
        "Previamente utilizamos un ratio de aprendizaje arbitario.Para acelerar la convergencia de nuestro MLP , una solución posible es buscar otro ratio de aprendizaje más óptimos."
      ]
    },
    {
      "cell_type": "code",
      "metadata": {
        "id": "OXsZPDvqWhxh",
        "colab_type": "code",
        "colab": {}
      },
      "source": [
        "tests_learning_rate_init = [0.001, 0.005, 0.01, 0.05, 0.1]\n",
        "activation = 'relu'\n",
        "random_state = 0\n",
        "#now = datetime.now()\n",
        "loss_curves =  []\n",
        "for lr in tests_learning_rate_init:\n",
        "   mlp = MLPClassifier(hidden_layer_sizes=(n_hidden,), learning_rate_init=lr, shuffle=False, random_state=random_state, verbose=False, activation=activation)\n",
        "   MLP_train_valid(mlp, input_train, target_train, input_valid, target_valid, max_iter, valid_cycles, False)\n",
        "   loss_curves.append(mlp.loss_curve_)"
      ],
      "execution_count": 0,
      "outputs": []
    },
    {
      "cell_type": "code",
      "metadata": {
        "id": "tXVa9JCBX11z",
        "colab_type": "code",
        "outputId": "e266a976-7a24-4f58-d5b9-feb984a85315",
        "colab": {
          "base_uri": "https://localhost:8080/",
          "height": 279
        }
      },
      "source": [
        "for (lr, loss_curve) in zip(tests_learning_rate_init, loss_curves):\n",
        "   plt.plot(range(1, len(loss_curve)+1), loss_curve, label='larning rate = ' + str(lr))\n",
        "plt.xlabel('number of iterations')\n",
        "plt.ylabel('loss function')\n",
        "plt.legend(loc='upper right')\n",
        "plt.show()\n"
      ],
      "execution_count": 0,
      "outputs": [
        {
          "output_type": "display_data",
          "data": {
            "image/png": "[encoded data removed]",
            "text/plain": [
              "<Figure size 432x288 with 1 Axes>"
            ]
          },
          "metadata": {
            "tags": []
          }
        }
      ]
    },
    {
      "cell_type": "markdown",
      "metadata": {
        "id": "1jKQMlijZHZj",
        "colab_type": "text"
      },
      "source": [
        "Vemos que el más estable es el \"learning rate\" de 0.005, puesto que en solo 20 iteraciones ha reducido la variación de error al mininimo de la grafica (y por ello que 0.01 no sea mejor que 0.005, porque llega antes pero permite ajustar menos el error)."
      ]
    },
    {
      "cell_type": "markdown",
      "metadata": {
        "id": "16vEQ4SDZi0q",
        "colab_type": "text"
      },
      "source": [
        "# Optimización arquitectura\n",
        "Previamente tambien definimos un nuevo arbitrario de nodos ocultos igual al número de variables/inputs de nuestro modelo (64), pero no sabemos si es el adecuado. Por lo tanto, lo siguiente que realizaremos sera tratar de mejorar la precisión de nuestro MLP buscando un número de nodos ocultos más óptimos."
      ]
    },
    {
      "cell_type": "code",
      "metadata": {
        "id": "adYrew8SZxbC",
        "colab_type": "code",
        "outputId": "7526b219-0274-4afd-ad67-4006bd0ada2f",
        "colab": {
          "base_uri": "https://localhost:8080/",
          "height": 1000
        }
      },
      "source": [
        "from datetime import datetime\n",
        "\n",
        "tests_n_hidden = [10, 30, 50, 70, 90, 110, 130, 150, 170, 190]\n",
        "n_reps = 10\n",
        "activation = 'relu'\n",
        "# activation = 'logistic'\n",
        "learning_rate_init = 0.005\n",
        "now = datetime.now()\n",
        "best_mlp = []\n",
        "best_acc = 0.0\n",
        "accs_train = []\n",
        "accs_valid = []\n",
        "for n_hidden in tests_n_hidden:\n",
        "   max_acc_train = max_acc_valid = 0.0\n",
        "   for random_state in range(n_reps):\n",
        "       mlp = MLPClassifier(hidden_layer_sizes=(n_hidden,), learning_rate_init=learning_rate_init, shuffle=False, random_state=random_state, verbose=False, activation=activation)\n",
        "       MLP_train_valid(mlp, input_train, target_train, input_valid, target_valid, max_iter, valid_cycles, False)\n",
        "       \n",
        "       acc_train = accuracy_score(target_train, mlp.predict(input_train))\n",
        "       acc_valid = accuracy_score(target_valid,mlp.predict(input_valid))\n",
        "       print(\"Seed = %d, train acc = %.8f, valid acc = %.8f, iterations = %d\" % (random_state, acc_train, acc_valid, len(mlp.loss_curve_)))\n",
        "       if (max_acc_valid < acc_valid):\n",
        "           max_acc_valid = acc_valid\n",
        "           max_acc_train = acc_train\n",
        "           if (acc_valid > best_acc):\n",
        "               best_acc = acc_valid\n",
        "               best_mlp = mlp\n",
        "   accs_train.append(max_acc_train)\n",
        "   accs_valid.append(max_acc_valid)\n",
        "   print(\"Number hidden units = %i, train acc = %.8f, max valid acc = %.8f\" % (n_hidden, max_acc_train, max_acc_valid))\n",
        "print(\"Number of seconds for training: %d\" % (datetime.now() - now).total_seconds())\n",
        "print(\"Best MLP valid accuracy: %.8f%%\" % (best_acc * 100))\n",
        "print(\"Best MLP: \", best_mlp)"
      ],
      "execution_count": 0,
      "outputs": [
        {
          "output_type": "stream",
          "text": [
            "Seed = 0, train acc = 0.85425587, valid acc = 0.79452055, iterations = 55\n",
            "Seed = 1, train acc = 0.87840384, valid acc = 0.80650685, iterations = 60\n",
            "Seed = 2, train acc = 0.86710053, valid acc = 0.79965753, iterations = 60\n",
            "Seed = 3, train acc = 0.81555061, valid acc = 0.74383562, iterations = 65\n",
            "Seed = 4, train acc = 0.85973626, valid acc = 0.78116438, iterations = 35\n",
            "Seed = 5, train acc = 0.81041274, valid acc = 0.75171233, iterations = 40\n",
            "Seed = 6, train acc = 0.86658674, valid acc = 0.79417808, iterations = 55\n",
            "Seed = 7, train acc = 0.85853742, valid acc = 0.78698630, iterations = 50\n",
            "Seed = 8, train acc = 0.87103956, valid acc = 0.79520548, iterations = 55\n",
            "Seed = 9, train acc = 0.85237198, valid acc = 0.77534247, iterations = 75\n",
            "Number hidden units = 10, train acc = 0.87840384, max valid acc = 0.80650685\n",
            "Seed = 0, train acc = 0.96352115, valid acc = 0.87054795, iterations = 20\n",
            "Seed = 1, train acc = 0.95889707, valid acc = 0.85753425, iterations = 20\n",
            "Seed = 2, train acc = 0.97859222, valid acc = 0.85821918, iterations = 25\n",
            "Seed = 3, train acc = 0.96574756, valid acc = 0.88219178, iterations = 20\n",
            "Seed = 4, train acc = 0.96283610, valid acc = 0.85787671, iterations = 25\n",
            "Seed = 5, train acc = 0.96454872, valid acc = 0.85856164, iterations = 20\n",
            "Seed = 6, train acc = 0.96574756, valid acc = 0.86301370, iterations = 20\n",
            "Seed = 7, train acc = 0.96677513, valid acc = 0.86541096, iterations = 20\n",
            "Seed = 8, train acc = 0.95804076, valid acc = 0.86678082, iterations = 20\n",
            "Seed = 9, train acc = 0.96660387, valid acc = 0.87054795, iterations = 25\n",
            "Number hidden units = 30, train acc = 0.96574756, max valid acc = 0.88219178\n",
            "Seed = 0, train acc = 0.99023805, valid acc = 0.88150685, iterations = 20\n",
            "Seed = 1, train acc = 0.98116116, valid acc = 0.87397260, iterations = 20\n",
            "Seed = 2, train acc = 0.98578524, valid acc = 0.87876712, iterations = 20\n",
            "Seed = 3, train acc = 0.98647029, valid acc = 0.87191781, iterations = 20\n",
            "Seed = 4, train acc = 0.98133242, valid acc = 0.87876712, iterations = 20\n",
            "Seed = 5, train acc = 0.97362562, valid acc = 0.87876712, iterations = 15\n",
            "Seed = 6, train acc = 0.99571844, valid acc = 0.87568493, iterations = 25\n",
            "Seed = 7, train acc = 0.97636582, valid acc = 0.87465753, iterations = 15\n",
            "Seed = 8, train acc = 0.97807844, valid acc = 0.87260274, iterations = 15\n",
            "Seed = 9, train acc = 0.98167494, valid acc = 0.88938356, iterations = 20\n",
            "Number hidden units = 50, train acc = 0.98167494, max valid acc = 0.88938356\n",
            "Seed = 0, train acc = 0.98955301, valid acc = 0.88561644, iterations = 20\n",
            "Seed = 1, train acc = 0.93920192, valid acc = 0.85890411, iterations = 10\n",
            "Seed = 2, train acc = 0.97413941, valid acc = 0.87157534, iterations = 15\n",
            "Seed = 3, train acc = 0.98818291, valid acc = 0.88013699, iterations = 20\n",
            "Seed = 4, train acc = 0.98715533, valid acc = 0.88184932, iterations = 20\n",
            "Seed = 5, train acc = 0.97208426, valid acc = 0.88630137, iterations = 15\n",
            "Seed = 6, train acc = 0.99417709, valid acc = 0.89109589, iterations = 20\n",
            "Seed = 7, train acc = 0.98407262, valid acc = 0.88458904, iterations = 20\n",
            "Seed = 8, train acc = 0.93457784, valid acc = 0.86232877, iterations = 15\n",
            "Seed = 9, train acc = 0.95444425, valid acc = 0.85239726, iterations = 15\n",
            "Number hidden units = 70, train acc = 0.99417709, max valid acc = 0.89109589\n",
            "Seed = 0, train acc = 0.91436890, valid acc = 0.83458904, iterations = 10\n",
            "Seed = 1, train acc = 0.94279842, valid acc = 0.86335616, iterations = 10\n",
            "Seed = 2, train acc = 0.95855455, valid acc = 0.85547945, iterations = 10\n",
            "Seed = 3, train acc = 0.92002055, valid acc = 0.84212329, iterations = 10\n",
            "Seed = 4, train acc = 0.96865902, valid acc = 0.87671233, iterations = 15\n",
            "Seed = 5, train acc = 0.95838328, valid acc = 0.86198630, iterations = 10\n",
            "Seed = 6, train acc = 0.99777359, valid acc = 0.88458904, iterations = 25\n",
            "Seed = 7, train acc = 0.94776503, valid acc = 0.86267123, iterations = 10\n",
            "Seed = 8, train acc = 0.94639493, valid acc = 0.86061644, iterations = 10\n",
            "Seed = 9, train acc = 0.91419764, valid acc = 0.83869863, iterations = 10\n",
            "Number hidden units = 90, train acc = 0.99777359, max valid acc = 0.88458904\n",
            "Seed = 0, train acc = 0.94159959, valid acc = 0.86130137, iterations = 10\n",
            "Seed = 1, train acc = 0.96129474, valid acc = 0.87157534, iterations = 10\n",
            "Seed = 2, train acc = 0.94725124, valid acc = 0.84726027, iterations = 10\n",
            "Seed = 3, train acc = 0.91556773, valid acc = 0.84041096, iterations = 10\n",
            "Seed = 4, train acc = 1.00000000, valid acc = 0.90924658, iterations = 25\n",
            "Seed = 5, train acc = 0.99811612, valid acc = 0.90376712, iterations = 25\n",
            "Seed = 6, train acc = 0.99880116, valid acc = 0.90239726, iterations = 25\n",
            "Seed = 7, train acc = 0.98578524, valid acc = 0.88664384, iterations = 15\n",
            "Seed = 8, train acc = 0.95136153, valid acc = 0.86472603, iterations = 10\n",
            "Seed = 9, train acc = 0.95273163, valid acc = 0.87363014, iterations = 10\n",
            "Number hidden units = 110, train acc = 1.00000000, max valid acc = 0.90924658\n",
            "Seed = 0, train acc = 0.92258948, valid acc = 0.83561644, iterations = 10\n",
            "Seed = 1, train acc = 0.99982874, valid acc = 0.90924658, iterations = 20\n",
            "Seed = 2, train acc = 0.95033396, valid acc = 0.85958904, iterations = 10\n",
            "Seed = 3, train acc = 1.00000000, valid acc = 0.91815068, iterations = 25\n",
            "Seed = 4, train acc = 0.96746018, valid acc = 0.88767123, iterations = 10\n",
            "Seed = 5, train acc = 0.91248501, valid acc = 0.82945205, iterations = 10\n",
            "Seed = 6, train acc = 0.92824114, valid acc = 0.83595890, iterations = 10\n",
            "Seed = 7, train acc = 0.93218017, valid acc = 0.85273973, iterations = 10\n",
            "Seed = 8, train acc = 0.96129474, valid acc = 0.86506849, iterations = 10\n",
            "Seed = 9, train acc = 0.93680425, valid acc = 0.85102740, iterations = 10\n",
            "Number hidden units = 130, train acc = 1.00000000, max valid acc = 0.91815068\n",
            "Seed = 0, train acc = 0.92241822, valid acc = 0.84965753, iterations = 10\n",
            "Seed = 1, train acc = 0.99143689, valid acc = 0.90445205, iterations = 20\n",
            "Seed = 2, train acc = 0.93971570, valid acc = 0.85993151, iterations = 10\n",
            "Seed = 3, train acc = 0.94827881, valid acc = 0.87123288, iterations = 10\n",
            "Seed = 4, train acc = 0.96026717, valid acc = 0.86061644, iterations = 10\n",
            "Seed = 5, train acc = 0.99725980, valid acc = 0.90993151, iterations = 20\n",
            "Seed = 6, train acc = 0.97242679, valid acc = 0.88321918, iterations = 10\n",
            "Seed = 7, train acc = 0.92635725, valid acc = 0.85547945, iterations = 10\n",
            "Seed = 8, train acc = 0.95136153, valid acc = 0.86883562, iterations = 10\n",
            "Seed = 9, train acc = 0.94759377, valid acc = 0.87671233, iterations = 10\n",
            "Number hidden units = 150, train acc = 0.99725980, max valid acc = 0.90993151\n",
            "Seed = 0, train acc = 0.91265628, valid acc = 0.84417808, iterations = 10\n",
            "Seed = 1, train acc = 0.98081863, valid acc = 0.89109589, iterations = 15\n",
            "Seed = 2, train acc = 0.92532968, valid acc = 0.84554795, iterations = 10\n",
            "Seed = 3, train acc = 0.98766912, valid acc = 0.90479452, iterations = 15\n",
            "Seed = 4, train acc = 0.97259805, valid acc = 0.88561644, iterations = 10\n",
            "Seed = 5, train acc = 0.96557630, valid acc = 0.87465753, iterations = 10\n",
            "Seed = 6, train acc = 0.97739339, valid acc = 0.88938356, iterations = 10\n",
            "Seed = 7, train acc = 0.97208426, valid acc = 0.88150685, iterations = 15\n",
            "Seed = 8, train acc = 0.96403494, valid acc = 0.87260274, iterations = 10\n",
            "Seed = 9, train acc = 0.95461552, valid acc = 0.86438356, iterations = 10\n",
            "Number hidden units = 170, train acc = 0.98766912, max valid acc = 0.90479452\n",
            "Seed = 0, train acc = 0.93098133, valid acc = 0.85616438, iterations = 10\n",
            "Seed = 1, train acc = 0.93577667, valid acc = 0.85958904, iterations = 10\n",
            "Seed = 2, train acc = 0.95598561, valid acc = 0.86609589, iterations = 10\n",
            "Seed = 3, train acc = 0.95033396, valid acc = 0.86438356, iterations = 10\n",
            "Seed = 4, train acc = 0.95975338, valid acc = 0.87089041, iterations = 10\n",
            "Seed = 5, train acc = 0.92173317, valid acc = 0.84931507, iterations = 10\n",
            "Seed = 6, train acc = 0.99845864, valid acc = 0.91472603, iterations = 20\n",
            "Seed = 7, train acc = 0.96540504, valid acc = 0.89041096, iterations = 10\n",
            "Seed = 8, train acc = 0.97756465, valid acc = 0.88458904, iterations = 10\n",
            "Seed = 9, train acc = 0.98835417, valid acc = 0.89589041, iterations = 15\n",
            "Number hidden units = 190, train acc = 0.99845864, max valid acc = 0.91472603\n",
            "Number of seconds for training: 86\n",
            "Best MLP valid accuracy: 91.81506849%\n",
            "Best MLP:  MLPClassifier(activation='relu', alpha=0.0001, batch_size='auto', beta_1=0.9,\n",
            "              beta_2=0.999, early_stopping=False, epsilon=1e-08,\n",
            "              hidden_layer_sizes=(130,), learning_rate='constant',\n",
            "              learning_rate_init=0.005, max_fun=15000, max_iter=200,\n",
            "              momentum=0.9, n_iter_no_change=10, nesterovs_momentum=True,\n",
            "              power_t=0.5, random_state=3, shuffle=False, solver='adam',\n",
            "              tol=0.0001, validation_fraction=0.1, verbose=False,\n",
            "              warm_start=False)\n"
          ],
          "name": "stdout"
        }
      ]
    },
    {
      "cell_type": "markdown",
      "metadata": {
        "id": "YtEOSHwGa70g",
        "colab_type": "text"
      },
      "source": [
        "Se observa que el mejor clasificador cuenta de 130 nodos ocultos. Observémoslo gráficamente"
      ]
    },
    {
      "cell_type": "code",
      "metadata": {
        "id": "OW6L9DBbbYax",
        "colab_type": "code",
        "outputId": "3840df10-4872-4226-e778-b66116e98923",
        "colab": {
          "base_uri": "https://localhost:8080/"
        }
      },
      "source": [
        "width = 4\n",
        "plt.bar(np.array(tests_n_hidden) - width, 100 *(1- np.array(accs_train)), color='g', width=width, label='Train error')\n",
        "plt.bar(np.array(tests_n_hidden), 100 *(1- np.array(accs_valid)), width=width, label='Min valid error')\n",
        "plt.xlabel('number of hidden units')\n",
        "plt.ylabel('error (%)')\n",
        "plt.xticks(np.array(tests_n_hidden), tests_n_hidden)\n",
        "plt.legend(loc='upper right')\n",
        "plt.show()\n"
      ],
      "execution_count": 0,
      "outputs": [
        {
          "output_type": "display_data",
          "data": {
            "image/png": "[encoded data removed]",
            "text/plain": [
              "<Figure size 432x288 with 1 Axes>"
            ]
          },
          "metadata": {
            "tags": []
          }
        }
      ]
    },
    {
      "cell_type": "markdown",
      "metadata": {
        "id": "jG8pcBXJbr-R",
        "colab_type": "text"
      },
      "source": [
        "# Resultados finales mejor MLP\n",
        "Con el mejor MLP obtenido con los parametros optimos calculados anteriormente, se calculan la precisión y las matrices de confusión para cada subconjunto preparado (entrenamiento, validación y test)."
      ]
    },
    {
      "cell_type": "code",
      "metadata": {
        "id": "-BgUq4ACbydy",
        "colab_type": "code",
        "outputId": "a5f42c0d-717c-4a1c-c9e4-c53e40293250",
        "colab": {
          "base_uri": "https://localhost:8080/"
        }
      },
      "source": [
        "predict_train = best_mlp.predict(input_train)\n",
        "predict_valid = best_mlp.predict(input_valid)\n",
        "predict_test = best_mlp.predict(input_test)\n",
        "print(\"Train accuracy: %.3f%%\" % (accuracy_score(target_train, predict_train) * 100))\n",
        "print(\"Valid accuracy: %.3f%%\" % (accuracy_score(target_valid, predict_valid) * 100))\n",
        "print(\"Test accuracy: %.3f%%\" % (accuracy_score(target_test, predict_test) * 100))\n",
        "print(\"Train confusion matrix:\")\n",
        "print(confusion_matrix(target_train, predict_train))\n",
        "print(\"Valid confusion matrix:\")\n",
        "print(confusion_matrix(target_valid, predict_valid))\n",
        "print(\"Test confusion matrix:\")\n",
        "print(confusion_matrix(target_test, predict_test))\n",
        "print(\"Train classification report:\")\n",
        "print(classification_report(target_train, predict_train))\n",
        "print(\"Valid classification report:\")\n",
        "print(classification_report(target_valid, predict_valid))\n",
        "print(\"Test classification report:\")\n",
        "print(classification_report(target_test, predict_test))"
      ],
      "execution_count": 0,
      "outputs": [
        {
          "output_type": "stream",
          "text": [
            "Train accuracy: 100.000%\n",
            "Valid accuracy: 91.815%\n",
            "Test accuracy: 89.928%\n",
            "Train confusion matrix:\n",
            "[[1468    0    0    0]\n",
            " [   0 1469    0    0]\n",
            " [   0    0 1432    0]\n",
            " [   0    0    0 1470]]\n",
            "Valid confusion matrix:\n",
            "[[701   4  16   7]\n",
            " [  0 691  10  25]\n",
            " [ 10  34 633  57]\n",
            " [ 12  33  31 656]]\n",
            "Test confusion matrix:\n",
            "[[670   8  23  13]\n",
            " [  0 658  21  29]\n",
            " [ 12  34 676  55]\n",
            " [ 17  47  35 621]]\n",
            "Train classification report:\n",
            "              precision    recall  f1-score   support\n",
            "\n",
            "         0.0       1.00      1.00      1.00      1468\n",
            "         1.0       1.00      1.00      1.00      1469\n",
            "         2.0       1.00      1.00      1.00      1432\n",
            "         3.0       1.00      1.00      1.00      1470\n",
            "\n",
            "    accuracy                           1.00      5839\n",
            "   macro avg       1.00      1.00      1.00      5839\n",
            "weighted avg       1.00      1.00      1.00      5839\n",
            "\n",
            "Valid classification report:\n",
            "              precision    recall  f1-score   support\n",
            "\n",
            "         0.0       0.97      0.96      0.97       728\n",
            "         1.0       0.91      0.95      0.93       726\n",
            "         2.0       0.92      0.86      0.89       734\n",
            "         3.0       0.88      0.90      0.89       732\n",
            "\n",
            "    accuracy                           0.92      2920\n",
            "   macro avg       0.92      0.92      0.92      2920\n",
            "weighted avg       0.92      0.92      0.92      2920\n",
            "\n",
            "Test classification report:\n",
            "              precision    recall  f1-score   support\n",
            "\n",
            "         0.0       0.96      0.94      0.95       714\n",
            "         1.0       0.88      0.93      0.90       708\n",
            "         2.0       0.90      0.87      0.88       777\n",
            "         3.0       0.86      0.86      0.86       720\n",
            "\n",
            "    accuracy                           0.90      2919\n",
            "   macro avg       0.90      0.90      0.90      2919\n",
            "weighted avg       0.90      0.90      0.90      2919\n",
            "\n"
          ],
          "name": "stdout"
        }
      ]
    },
    {
      "cell_type": "markdown",
      "metadata": {
        "id": "-paWYtrcqpMe",
        "colab_type": "text"
      },
      "source": [
        "Podemos observar como la precisión del modelo pasa de *99.78%* a *100%* de precisión para el conjunto de entrenamiento. Una variación de *+0.22%*\n",
        "\n",
        "De *86.781%* a *91.815%* para el conjunto de validación. Una variación del *+5.034%*\n",
        "\n",
        "Por último, de *86.781%* a *89.928%* si comparamos la precisión para el conjunto de validación de nuestro primer Perceptron MLP con la precisión para el conjunto de test para el Perceptrón MLP más óptimo . Una variación del *+3.15%*, con lo cual, podemos afirmar que nuestro modelo mejora su precisión para conjuntos de datos no viciados por el proceso de aprendizaje.\n",
        "\n",
        "Posteriormente calculamos y visualizamos las curva ROC para el subconjunto Test:"
      ]
    },
    {
      "cell_type": "code",
      "metadata": {
        "id": "5Lrg4usmr-jF",
        "colab_type": "code",
        "outputId": "40bde38d-52fd-4ecc-d2db-c1bbbf75503a",
        "colab": {
          "base_uri": "https://localhost:8080/"
        }
      },
      "source": [
        "mlp_probs = mlp.predict_proba(input_test)\n",
        "classes  = np.unique(target_train)\n",
        "mlp_auc = []\n",
        "mlp_fpr = []\n",
        "mlp_tpr = []\n",
        "for cla in classes:\n",
        "  cla = int(cla)\n",
        "  mlp_auc.append(roc_auc_score(target_test==cla, mlp_probs[:,cla]))\n",
        "  fpr, tpr, _ = roc_curve(target_test==cla, mlp_probs[:,cla])\n",
        "  mlp_fpr.append(fpr)\n",
        "  mlp_tpr.append(tpr)\n",
        "\n",
        "for cla in classes:\n",
        "  cla = int(cla)\n",
        "  # plt.plot(ns_fpr, ns_tpr, linestyle='--', label='No Skill')\n",
        "  plt.plot(mlp_fpr[cla], mlp_tpr[cla], marker='.', label='Class %d (AUC: %.5f)' % (cla, mlp_auc[cla]))\n",
        "\n",
        "plt.plot([0, 1], [0, 1], color='navy', linestyle='--')\n",
        "plt.xlabel('False Positive Rate')\n",
        "plt.ylabel('True Positive Rate')\n",
        "plt.legend()\n",
        "plt.show()\n",
        "\n"
      ],
      "execution_count": 0,
      "outputs": [
        {
          "output_type": "display_data",
          "data": {
            "image/png": "[encoded data removed]",
            "text/plain": [
              "<Figure size 432x288 with 1 Axes>"
            ]
          },
          "metadata": {
            "tags": []
          }
        }
      ]
    },
    {
      "cell_type": "markdown",
      "metadata": {
        "id": "op6bFYpZw8Hl",
        "colab_type": "text"
      },
      "source": [
        "Esto nos permite ver que nuestro modelo tiene un mayor indice de falsos positivos (es decir, errores) en el gesto de tipo 2, con una precisión de *97.101%*\n",
        "\n",
        "A continuación mostramos algunas filas donde se da el falso positivo:"
      ]
    },
    {
      "cell_type": "code",
      "metadata": {
        "id": "7gtC1Naz00YQ",
        "colab_type": "code",
        "outputId": "80b0adef-70d7-4d20-e510-abbfcfe68acc",
        "colab": {
          "base_uri": "https://localhost:8080/"
        }
      },
      "source": [
        "print(predict_test)\n",
        "print(predict_test.shape)\n",
        "\n",
        "gesture_test = np.column_stack( (input_test, target_test))\n",
        "max_rows = 10\n",
        "count = 0\n",
        "for row in gesture_test:\n",
        "  if max_rows == count:\n",
        "    break\n",
        "  if predict_test[count] != row[-1]:\n",
        "    print(\"Fila : \", row)\n",
        "    print(\"Se predijo : \", int(predict_test[count]), \" . Era : \",int(row[-1]) )\n",
        "  count = count+1\n"
      ],
      "execution_count": 0,
      "outputs": [
        {
          "output_type": "stream",
          "text": [
            "[0. 2. 1. ... 2. 2. 0.]\n",
            "(2919,)\n",
            "Fila :  [  9.  -1.  -4.  -7.   0. -10.   0.   2.  -8.  -1.  -1.   1.  44.  25.\n",
            "  -4.  -4.   5.   3.   2.  -4. -80. -54.   7.  20. -17.   1.   1.   1.\n",
            "   7.  45.   0.  -1.  -1.   0.   0.   1.   3.   1.  -2.  -4.   0.  -1.\n",
            "  -1.   0.  18.  16.   5.  -4.  -2.   2.   5.   1. -12. -26.  -4.  -5.\n",
            "   0.  -1.  -2.  -2.   2. -11.   0.   4.   3.]\n",
            "Se predijo :  1  . Era :  3\n",
            "Fila :  [  3.   2.   0.  -2. -17. -16.  -1.   3.  -7.  -3.  -1.  -2.   3.  17.\n",
            "   0.   1.  16.  -2.  -2.   0.  -9.  -3.  -5.   8.  -4.   1.   3.  -1.\n",
            "   3.  -2.  -9. -17.   4.  -2.  -1.   0.  25.  16.  12. -11.  -2.   4.\n",
            "   2.   0. -11. -10.   3.  33. -12.  -1.  -3.   2.  -2.   5.   3.  -9.\n",
            "   0.  -1.  -1.  -1.  10.   0.   3.   4.   3.]\n",
            "Se predijo :  2  . Era :  3\n"
          ],
          "name": "stdout"
        }
      ]
    }
  ]
}